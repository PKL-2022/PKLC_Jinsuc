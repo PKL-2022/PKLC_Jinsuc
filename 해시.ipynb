{
 "cells": [
  {
   "cell_type": "markdown",
   "id": "7a7a0ea9",
   "metadata": {},
   "source": [
    "# 전화번호 목록"
   ]
  },
  {
   "cell_type": "code",
   "execution_count": null,
   "id": "bbd8e270",
   "metadata": {},
   "outputs": [],
   "source": [
    "def solution(phone_book):\n",
    "    phone_book.sort()\n",
    "    # 순서데로 정렬하여 번호 길이가 길어서 생략 방지\n",
    "    \n",
    "    for i in range(len(phone_book)-1): #마지막 번호는 검사 할 필요 없으므로 -1까지 반복\n",
    "        if len(phone_book[i]) < len(phone_book[i+1]): # 검사 번호가 다음 번호보다\n",
    "            if phone_book[i] == phone_book[i+1][:len(phone_book[i])]: \n",
    "                return False\n",
    "    return True\n",
    "\n",
    "# 좋은 방법인것 같아 가져왔습니다.\n",
    "# p2rk p1에 있는지 startswith로 검사\n",
    "\n",
    "# def solution(phoneBook): \n",
    "#     phoneBook = sorted(phoneBook)\n",
    "\n",
    "#     for p1, p2 in zip(phoneBook, phoneBook[1:]):\n",
    "#         if p2.startswith(p1):\n",
    "#             return False\n",
    "#     return True"
   ]
  },
  {
   "cell_type": "markdown",
   "id": "53ecdd3f",
   "metadata": {},
   "source": [
    "# 위장"
   ]
  },
  {
   "cell_type": "code",
   "execution_count": null,
   "id": "f2db2388",
   "metadata": {},
   "outputs": [],
   "source": [
    "def solution(clothes):\n",
    "    \n",
    "    cloth = dict() #딕셔너리 및 answer 초기화\n",
    "    answer = 1\n",
    "    \n",
    "    for i in clothes:\n",
    "        if i[1] not in cloth: # 딕셔너리에 없으면 value 1 로 추가\n",
    "            cloth[i[1]] = 1 # 딕서녀러니가 있으면 +1하기\n",
    "        elif i[1] in cloth:\n",
    "            cloth[i[1]] += 1\n",
    "    {eyewear:1, hat:2}\n",
    "    for key in cloth.keys():  #옷 종류 수 만큼 반복\n",
    "        answer = (answer*(cloth[key]+1)) #경우의수 식이여서 보고 했습니다.. 허허..\n",
    "        \n",
    "    \n",
    "    return answer -1"
   ]
  }
 ],
 "metadata": {
  "kernelspec": {
   "display_name": "Python 3 (ipykernel)",
   "language": "python",
   "name": "python3"
  },
  "language_info": {
   "codemirror_mode": {
    "name": "ipython",
    "version": 3
   },
   "file_extension": ".py",
   "mimetype": "text/x-python",
   "name": "python",
   "nbconvert_exporter": "python",
   "pygments_lexer": "ipython3",
   "version": "3.9.10"
  }
 },
 "nbformat": 4,
 "nbformat_minor": 5
}
